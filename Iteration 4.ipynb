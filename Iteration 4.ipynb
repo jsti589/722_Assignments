{
 "cells": [
  {
   "cell_type": "code",
   "execution_count": 1,
   "metadata": {},
   "outputs": [],
   "source": [
    "import findspark\n",
    "findspark.init('/home/ubuntu/spark-2.1.1-bin-hadoop2.7')\n",
    "import pyspark\n",
    "from pyspark.sql import SparkSession\n",
    "from pyspark.sql import DataFrame\n",
    "import pyspark.ml.feature \n",
    "spark = SparkSession.builder.appName('Iteration_4').getOrCreate()"
   ]
  },
  {
   "cell_type": "code",
   "execution_count": 2,
   "metadata": {},
   "outputs": [],
   "source": [
    "from pyspark.sql.functions import isnan, when, count, col, avg\n",
    "from pyspark.ml.regression import LinearRegression, RandomForestRegressor"
   ]
  },
  {
   "cell_type": "code",
   "execution_count": 3,
   "metadata": {},
   "outputs": [],
   "source": [
    "import statistics \n",
    "import numpy"
   ]
  },
  {
   "cell_type": "code",
   "execution_count": 4,
   "metadata": {},
   "outputs": [],
   "source": [
    "# Import data\n",
    "df1 = spark.read.csv('Housing_Data_1_encoded .csv', inferSchema=True, header=True)\n",
    "df2 = spark.read.csv('Housing_Data_2_encoded.csv', inferSchema=True, header=True)"
   ]
  },
  {
   "cell_type": "code",
   "execution_count": 5,
   "metadata": {},
   "outputs": [],
   "source": [
    "# Merge data \n",
    "data = df1.union(df2)"
   ]
  },
  {
   "cell_type": "code",
   "execution_count": 6,
   "metadata": {},
   "outputs": [],
   "source": [
    "def convert_pandas (data):\n",
    "    return data.toPandas() \n",
    "\n",
    "def convert_spark (data):\n",
    "    return spark.createDataFrame(data)"
   ]
  },
  {
   "cell_type": "markdown",
   "metadata": {},
   "source": [
    "# 2.3 Exploration"
   ]
  },
  {
   "cell_type": "code",
   "execution_count": 7,
   "metadata": {},
   "outputs": [
    {
     "name": "stdout",
     "output_type": "stream",
     "text": [
      "Rows:  34857 Columns:  21\n"
     ]
    }
   ],
   "source": [
    "print(\"Rows: \", data.count(), \"Columns: \", len(data.columns))"
   ]
  },
  {
   "cell_type": "code",
   "execution_count": 8,
   "metadata": {},
   "outputs": [
    {
     "data": {
      "text/plain": [
       "Row(Suburb='Abbotsford', Address='68 Studley St', Rooms=2, Type='h', Price=None, Method='SS', SellerG='Jellis', Date='3/09/2016', Distance='2.5', Postcode='3067', Bedroom2=2, Bathroom=1, Car=1, Landsize=126, BuildingArea=None, YearBuilt=None, CouncilArea='Yarra City Council', Lattitude=-37.8014, Longtitude=144.9958, Regionname='Northern Metropolitan', Propertycount='4019')"
      ]
     },
     "execution_count": 8,
     "metadata": {},
     "output_type": "execute_result"
    }
   ],
   "source": [
    "data.head()"
   ]
  },
  {
   "cell_type": "code",
   "execution_count": 9,
   "metadata": {},
   "outputs": [
    {
     "name": "stdout",
     "output_type": "stream",
     "text": [
      "root\n",
      " |-- Suburb: string (nullable = true)\n",
      " |-- Address: string (nullable = true)\n",
      " |-- Rooms: integer (nullable = true)\n",
      " |-- Type: string (nullable = true)\n",
      " |-- Price: integer (nullable = true)\n",
      " |-- Method: string (nullable = true)\n",
      " |-- SellerG: string (nullable = true)\n",
      " |-- Date: string (nullable = true)\n",
      " |-- Distance: string (nullable = true)\n",
      " |-- Postcode: string (nullable = true)\n",
      " |-- Bedroom2: integer (nullable = true)\n",
      " |-- Bathroom: integer (nullable = true)\n",
      " |-- Car: integer (nullable = true)\n",
      " |-- Landsize: integer (nullable = true)\n",
      " |-- BuildingArea: double (nullable = true)\n",
      " |-- YearBuilt: integer (nullable = true)\n",
      " |-- CouncilArea: string (nullable = true)\n",
      " |-- Lattitude: double (nullable = true)\n",
      " |-- Longtitude: double (nullable = true)\n",
      " |-- Regionname: string (nullable = true)\n",
      " |-- Propertycount: string (nullable = true)\n",
      "\n"
     ]
    }
   ],
   "source": [
    "data.printSchema() "
   ]
  },
  {
   "cell_type": "code",
   "execution_count": 10,
   "metadata": {},
   "outputs": [
    {
     "data": {
      "text/plain": [
       "DataFrame[summary: string, Suburb: string, Address: string, Rooms: string, Type: string, Price: string, Method: string, SellerG: string, Date: string, Distance: string, Postcode: string, Bedroom2: string, Bathroom: string, Car: string, Landsize: string, BuildingArea: string, YearBuilt: string, CouncilArea: string, Lattitude: string, Longtitude: string, Regionname: string, Propertycount: string]"
      ]
     },
     "execution_count": 10,
     "metadata": {},
     "output_type": "execute_result"
    }
   ],
   "source": [
    "data.describe()"
   ]
  },
  {
   "cell_type": "markdown",
   "metadata": {},
   "source": [
    "# Data Quality"
   ]
  },
  {
   "cell_type": "code",
   "execution_count": 11,
   "metadata": {},
   "outputs": [],
   "source": [
    "import pandas as pd"
   ]
  },
  {
   "cell_type": "code",
   "execution_count": 12,
   "metadata": {
    "scrolled": true
   },
   "outputs": [],
   "source": [
    "data = convert_pandas(data)"
   ]
  },
  {
   "cell_type": "code",
   "execution_count": 13,
   "metadata": {},
   "outputs": [],
   "source": [
    "def get_completeness (data): \n",
    "    \n",
    "    print('\\n Completeness \\n')\n",
    "    \n",
    "    for column in data.columns:\n",
    "        percent = (len(data) - data[column].isnull().sum()) / len(data)\n",
    "    \n",
    "        print(column, ': ', round(percent * 100, 2), '%')"
   ]
  },
  {
   "cell_type": "code",
   "execution_count": 14,
   "metadata": {},
   "outputs": [
    {
     "name": "stdout",
     "output_type": "stream",
     "text": [
      "Suburb               0\n",
      "Address              0\n",
      "Rooms                0\n",
      "Type                 0\n",
      "Price             7610\n",
      "Method               0\n",
      "SellerG              0\n",
      "Date                 0\n",
      "Distance             0\n",
      "Postcode             0\n",
      "Bedroom2          8217\n",
      "Bathroom          8226\n",
      "Car               8728\n",
      "Landsize         11810\n",
      "BuildingArea     21115\n",
      "YearBuilt        19306\n",
      "CouncilArea          0\n",
      "Lattitude         7976\n",
      "Longtitude        7976\n",
      "Regionname           0\n",
      "Propertycount        0\n",
      "dtype: int64\n",
      "\n",
      " Completeness \n",
      "\n",
      "Suburb :  100.0 %\n",
      "Address :  100.0 %\n",
      "Rooms :  100.0 %\n",
      "Type :  100.0 %\n",
      "Price :  78.17 %\n",
      "Method :  100.0 %\n",
      "SellerG :  100.0 %\n",
      "Date :  100.0 %\n",
      "Distance :  100.0 %\n",
      "Postcode :  100.0 %\n",
      "Bedroom2 :  76.43 %\n",
      "Bathroom :  76.4 %\n",
      "Car :  74.96 %\n",
      "Landsize :  66.12 %\n",
      "BuildingArea :  39.42 %\n",
      "YearBuilt :  44.61 %\n",
      "CouncilArea :  100.0 %\n",
      "Lattitude :  77.12 %\n",
      "Longtitude :  77.12 %\n",
      "Regionname :  100.0 %\n",
      "Propertycount :  100.0 %\n"
     ]
    }
   ],
   "source": [
    "# Counts of null values in the data. \n",
    "print(data.isnull().sum())\n",
    "\n",
    "get_completeness(data)"
   ]
  },
  {
   "cell_type": "code",
   "execution_count": 15,
   "metadata": {
    "scrolled": true
   },
   "outputs": [
    {
     "data": {
      "text/html": [
       "<div>\n",
       "<style scoped>\n",
       "    .dataframe tbody tr th:only-of-type {\n",
       "        vertical-align: middle;\n",
       "    }\n",
       "\n",
       "    .dataframe tbody tr th {\n",
       "        vertical-align: top;\n",
       "    }\n",
       "\n",
       "    .dataframe thead th {\n",
       "        text-align: right;\n",
       "    }\n",
       "</style>\n",
       "<table border=\"1\" class=\"dataframe\">\n",
       "  <thead>\n",
       "    <tr style=\"text-align: right;\">\n",
       "      <th></th>\n",
       "      <th>Rooms</th>\n",
       "      <th>Price</th>\n",
       "      <th>Bedroom2</th>\n",
       "      <th>Bathroom</th>\n",
       "      <th>Car</th>\n",
       "      <th>Landsize</th>\n",
       "      <th>BuildingArea</th>\n",
       "      <th>YearBuilt</th>\n",
       "      <th>Lattitude</th>\n",
       "      <th>Longtitude</th>\n",
       "    </tr>\n",
       "  </thead>\n",
       "  <tbody>\n",
       "    <tr>\n",
       "      <th>count</th>\n",
       "      <td>34857.000000</td>\n",
       "      <td>2.724700e+04</td>\n",
       "      <td>26640.000000</td>\n",
       "      <td>26631.000000</td>\n",
       "      <td>26129.000000</td>\n",
       "      <td>23047.000000</td>\n",
       "      <td>13742.00000</td>\n",
       "      <td>15551.000000</td>\n",
       "      <td>26881.000000</td>\n",
       "      <td>26881.000000</td>\n",
       "    </tr>\n",
       "    <tr>\n",
       "      <th>mean</th>\n",
       "      <td>3.031012</td>\n",
       "      <td>1.050173e+06</td>\n",
       "      <td>3.084647</td>\n",
       "      <td>1.624798</td>\n",
       "      <td>1.728845</td>\n",
       "      <td>593.598993</td>\n",
       "      <td>160.25640</td>\n",
       "      <td>1965.289885</td>\n",
       "      <td>-37.810634</td>\n",
       "      <td>145.001851</td>\n",
       "    </tr>\n",
       "    <tr>\n",
       "      <th>std</th>\n",
       "      <td>0.969933</td>\n",
       "      <td>6.414671e+05</td>\n",
       "      <td>0.980690</td>\n",
       "      <td>0.724212</td>\n",
       "      <td>1.010771</td>\n",
       "      <td>3398.841946</td>\n",
       "      <td>401.26706</td>\n",
       "      <td>37.328178</td>\n",
       "      <td>0.090279</td>\n",
       "      <td>0.120169</td>\n",
       "    </tr>\n",
       "    <tr>\n",
       "      <th>min</th>\n",
       "      <td>1.000000</td>\n",
       "      <td>8.500000e+04</td>\n",
       "      <td>0.000000</td>\n",
       "      <td>0.000000</td>\n",
       "      <td>0.000000</td>\n",
       "      <td>0.000000</td>\n",
       "      <td>0.00000</td>\n",
       "      <td>1196.000000</td>\n",
       "      <td>-38.190430</td>\n",
       "      <td>144.423790</td>\n",
       "    </tr>\n",
       "    <tr>\n",
       "      <th>25%</th>\n",
       "      <td>2.000000</td>\n",
       "      <td>6.350000e+05</td>\n",
       "      <td>2.000000</td>\n",
       "      <td>1.000000</td>\n",
       "      <td>1.000000</td>\n",
       "      <td>224.000000</td>\n",
       "      <td>102.00000</td>\n",
       "      <td>1940.000000</td>\n",
       "      <td>-37.862950</td>\n",
       "      <td>144.933500</td>\n",
       "    </tr>\n",
       "    <tr>\n",
       "      <th>50%</th>\n",
       "      <td>3.000000</td>\n",
       "      <td>8.700000e+05</td>\n",
       "      <td>3.000000</td>\n",
       "      <td>2.000000</td>\n",
       "      <td>2.000000</td>\n",
       "      <td>521.000000</td>\n",
       "      <td>136.00000</td>\n",
       "      <td>1970.000000</td>\n",
       "      <td>-37.807600</td>\n",
       "      <td>145.007800</td>\n",
       "    </tr>\n",
       "    <tr>\n",
       "      <th>75%</th>\n",
       "      <td>4.000000</td>\n",
       "      <td>1.295000e+06</td>\n",
       "      <td>4.000000</td>\n",
       "      <td>2.000000</td>\n",
       "      <td>2.000000</td>\n",
       "      <td>670.000000</td>\n",
       "      <td>188.00000</td>\n",
       "      <td>2000.000000</td>\n",
       "      <td>-37.754100</td>\n",
       "      <td>145.071900</td>\n",
       "    </tr>\n",
       "    <tr>\n",
       "      <th>max</th>\n",
       "      <td>16.000000</td>\n",
       "      <td>1.120000e+07</td>\n",
       "      <td>30.000000</td>\n",
       "      <td>12.000000</td>\n",
       "      <td>26.000000</td>\n",
       "      <td>433014.000000</td>\n",
       "      <td>44515.00000</td>\n",
       "      <td>2106.000000</td>\n",
       "      <td>-37.390200</td>\n",
       "      <td>145.526350</td>\n",
       "    </tr>\n",
       "  </tbody>\n",
       "</table>\n",
       "</div>"
      ],
      "text/plain": [
       "              Rooms         Price      Bedroom2      Bathroom           Car  \\\n",
       "count  34857.000000  2.724700e+04  26640.000000  26631.000000  26129.000000   \n",
       "mean       3.031012  1.050173e+06      3.084647      1.624798      1.728845   \n",
       "std        0.969933  6.414671e+05      0.980690      0.724212      1.010771   \n",
       "min        1.000000  8.500000e+04      0.000000      0.000000      0.000000   \n",
       "25%        2.000000  6.350000e+05      2.000000      1.000000      1.000000   \n",
       "50%        3.000000  8.700000e+05      3.000000      2.000000      2.000000   \n",
       "75%        4.000000  1.295000e+06      4.000000      2.000000      2.000000   \n",
       "max       16.000000  1.120000e+07     30.000000     12.000000     26.000000   \n",
       "\n",
       "            Landsize  BuildingArea     YearBuilt     Lattitude    Longtitude  \n",
       "count   23047.000000   13742.00000  15551.000000  26881.000000  26881.000000  \n",
       "mean      593.598993     160.25640   1965.289885    -37.810634    145.001851  \n",
       "std      3398.841946     401.26706     37.328178      0.090279      0.120169  \n",
       "min         0.000000       0.00000   1196.000000    -38.190430    144.423790  \n",
       "25%       224.000000     102.00000   1940.000000    -37.862950    144.933500  \n",
       "50%       521.000000     136.00000   1970.000000    -37.807600    145.007800  \n",
       "75%       670.000000     188.00000   2000.000000    -37.754100    145.071900  \n",
       "max    433014.000000   44515.00000   2106.000000    -37.390200    145.526350  "
      ]
     },
     "execution_count": 15,
     "metadata": {},
     "output_type": "execute_result"
    }
   ],
   "source": [
    "data.describe()"
   ]
  },
  {
   "cell_type": "code",
   "execution_count": 16,
   "metadata": {},
   "outputs": [
    {
     "data": {
      "text/plain": [
       "Rooms           9.407699e-01\n",
       "Price           4.114801e+11\n",
       "Bedroom2        9.617523e-01\n",
       "Bathroom        5.244830e-01\n",
       "Car             1.021658e+00\n",
       "Landsize        1.155213e+07\n",
       "BuildingArea    1.610153e+05\n",
       "YearBuilt       1.393393e+03\n",
       "Lattitude       8.150281e-03\n",
       "Longtitude      1.444053e-02\n",
       "dtype: float64"
      ]
     },
     "execution_count": 16,
     "metadata": {},
     "output_type": "execute_result"
    }
   ],
   "source": [
    "data.var()"
   ]
  },
  {
   "cell_type": "code",
   "execution_count": 17,
   "metadata": {},
   "outputs": [],
   "source": [
    "# back to spark \n",
    "data = convert_spark(data)"
   ]
  },
  {
   "cell_type": "markdown",
   "metadata": {},
   "source": [
    "# 3.1 Data Selection"
   ]
  },
  {
   "cell_type": "code",
   "execution_count": 18,
   "metadata": {},
   "outputs": [
    {
     "name": "stdout",
     "output_type": "stream",
     "text": [
      "Columns:  21\n",
      "Columns:  16\n"
     ]
    }
   ],
   "source": [
    "print('Columns: ', len(data.columns))\n",
    "\n",
    "columns_to_drop = ['Address', 'Date', 'Method', 'Postcode', 'SellerG']\n",
    "data = data.select([column for column in data.columns if column not in columns_to_drop])\n",
    "\n",
    "print('Columns: ', len(data.columns))"
   ]
  },
  {
   "cell_type": "markdown",
   "metadata": {},
   "source": [
    "# 3.2 Data Cleaning"
   ]
  },
  {
   "cell_type": "code",
   "execution_count": 19,
   "metadata": {},
   "outputs": [
    {
     "name": "stdout",
     "output_type": "stream",
     "text": [
      "27247\n"
     ]
    }
   ],
   "source": [
    "# Removing Null values for price\n",
    "\n",
    "data = data.na.drop(subset='Price')\n",
    "print(data.count())"
   ]
  },
  {
   "cell_type": "code",
   "execution_count": 20,
   "metadata": {},
   "outputs": [
    {
     "name": "stdout",
     "output_type": "stream",
     "text": [
      "columns:  14\n"
     ]
    }
   ],
   "source": [
    "# Remove columns with too many missing values. ITERATION**********\n",
    "\n",
    "data = data.drop('YearBuilt', 'BuildingArea')\n",
    "\n",
    "print(\"columns: \", len(data.columns))"
   ]
  },
  {
   "cell_type": "code",
   "execution_count": 21,
   "metadata": {},
   "outputs": [
    {
     "name": "stdout",
     "output_type": "stream",
     "text": [
      "   Rooms      Price  Bedroom2  Bathroom  Car  Landsize  Lattitude  Longtitude\n",
      "0      2  1480000.0       2.0       1.0  1.0     202.0   -37.7996    144.9984\n",
      "1      2  1035000.0       2.0       1.0  0.0     156.0   -37.8079    144.9934\n",
      "2      3  1465000.0       3.0       2.0  0.0     134.0   -37.8093    144.9944\n",
      "3      3   850000.0       3.0       2.0  1.0      94.0   -37.7969    144.9969\n",
      "4      4  1600000.0       3.0       1.0  2.0     120.0   -37.8072    144.9941\n"
     ]
    }
   ],
   "source": [
    "# Imputing Missing Numeric Values\n",
    "\n",
    "data = convert_pandas(data)\n",
    "\n",
    "# Selecting numeric and categorical data\n",
    "numeric_data = data._get_numeric_data()\n",
    "\n",
    "non_numeric = data.drop(data._get_numeric_data(), axis=1)\n",
    "print(numeric_data.head())\n",
    "column_headers = numeric_data.columns"
   ]
  },
  {
   "cell_type": "code",
   "execution_count": 22,
   "metadata": {},
   "outputs": [],
   "source": [
    "import statistics\n",
    "import math"
   ]
  },
  {
   "cell_type": "code",
   "execution_count": 23,
   "metadata": {
    "scrolled": false
   },
   "outputs": [],
   "source": [
    "for column in numeric_data:\n",
    "    mean = data[column].mean()\n",
    "    median = data[column].median()\n",
    "    \n",
    "    data[column].fillna(mean, inplace=True)"
   ]
  },
  {
   "cell_type": "code",
   "execution_count": 24,
   "metadata": {},
   "outputs": [
    {
     "name": "stdout",
     "output_type": "stream",
     "text": [
      "\n",
      " Completeness \n",
      "\n",
      "Suburb :  100.0 %\n",
      "Rooms :  100.0 %\n",
      "Type :  100.0 %\n",
      "Price :  100.0 %\n",
      "Distance :  100.0 %\n",
      "Bedroom2 :  100.0 %\n",
      "Bathroom :  100.0 %\n",
      "Car :  100.0 %\n",
      "Landsize :  100.0 %\n",
      "CouncilArea :  100.0 %\n",
      "Lattitude :  100.0 %\n",
      "Longtitude :  100.0 %\n",
      "Regionname :  100.0 %\n",
      "Propertycount :  100.0 %\n"
     ]
    }
   ],
   "source": [
    "get_completeness(data)"
   ]
  },
  {
   "cell_type": "code",
   "execution_count": 25,
   "metadata": {},
   "outputs": [
    {
     "data": {
      "text/plain": [
       "(27247, 14)"
      ]
     },
     "execution_count": 25,
     "metadata": {},
     "output_type": "execute_result"
    }
   ],
   "source": [
    "data.shape"
   ]
  },
  {
   "cell_type": "code",
   "execution_count": 26,
   "metadata": {},
   "outputs": [
    {
     "name": "stdout",
     "output_type": "stream",
     "text": [
      "(25409, 14)\n"
     ]
    }
   ],
   "source": [
    "# Iteration ***********************\n",
    "\n",
    "# Removing Outliers\n",
    "\n",
    "for col in numeric_data:\n",
    "    mean = data[col].mean()\n",
    "#     Change for iteration \n",
    "    cut_off = data[col].std() * 3\n",
    "    high = mean + cut_off\n",
    "    low = mean - cut_off\n",
    "    data = data[(data[col]<high) & (data[col]>low)]\n",
    "\n",
    "print(data.shape)"
   ]
  },
  {
   "cell_type": "markdown",
   "metadata": {},
   "source": [
    "# 3.3 Data Construction "
   ]
  },
  {
   "cell_type": "code",
   "execution_count": 27,
   "metadata": {},
   "outputs": [
    {
     "name": "stdout",
     "output_type": "stream",
     "text": [
      "       Suburb  Rooms Type      Price Distance  Bedroom2  Bathroom  Car  \\\n",
      "0  Abbotsford      2    h  1480000.0      2.5       2.0       1.0  1.0   \n",
      "1  Abbotsford      2    h  1035000.0      2.5       2.0       1.0  0.0   \n",
      "2  Abbotsford      3    h  1465000.0      2.5       3.0       2.0  0.0   \n",
      "3  Abbotsford      3    h   850000.0      2.5       3.0       2.0  1.0   \n",
      "4  Abbotsford      4    h  1600000.0      2.5       3.0       1.0  2.0   \n",
      "\n",
      "  Landsize         CouncilArea  Lattitude  Longtitude             Regionname  \\\n",
      "0        S  Yarra City Council   -37.7996    144.9984  Northern Metropolitan   \n",
      "1        S  Yarra City Council   -37.8079    144.9934  Northern Metropolitan   \n",
      "2        S  Yarra City Council   -37.8093    144.9944  Northern Metropolitan   \n",
      "3        S  Yarra City Council   -37.7969    144.9969  Northern Metropolitan   \n",
      "4        S  Yarra City Council   -37.8072    144.9941  Northern Metropolitan   \n",
      "\n",
      "  Propertycount  \n",
      "0          4019  \n",
      "1          4019  \n",
      "2          4019  \n",
      "3          4019  \n",
      "4          4019  \n"
     ]
    }
   ],
   "source": [
    "# 467, 512, 8970 - quantiles for each 1/3 of data\n",
    "\n",
    "values = []\n",
    "\n",
    "for x in data['Landsize']:\n",
    "    value = ''\n",
    "    if x <= 467:\n",
    "        value = 'S'\n",
    "    elif (x > 467) & (x <= 512):\n",
    "        value = 'M'\n",
    "    elif x > 512:\n",
    "        value = 'L'\n",
    "    values.append(value)\n",
    " \n",
    "data['Landsize'] = values \n",
    "print(data.head())"
   ]
  },
  {
   "cell_type": "markdown",
   "metadata": {},
   "source": [
    "# 3.4 Data Merge"
   ]
  },
  {
   "cell_type": "markdown",
   "metadata": {},
   "source": [
    "Conduted previously at the start of the note book."
   ]
  },
  {
   "cell_type": "markdown",
   "metadata": {},
   "source": [
    "# 3.5 Data Reformatting"
   ]
  },
  {
   "cell_type": "code",
   "execution_count": 28,
   "metadata": {},
   "outputs": [],
   "source": [
    "from pyspark.ml.feature import StringIndexer"
   ]
  },
  {
   "cell_type": "code",
   "execution_count": 29,
   "metadata": {},
   "outputs": [],
   "source": [
    "data = convert_spark(data)"
   ]
  },
  {
   "cell_type": "code",
   "execution_count": 30,
   "metadata": {
    "scrolled": true
   },
   "outputs": [
    {
     "name": "stdout",
     "output_type": "stream",
     "text": [
      "+-----+---------+--------+------------------+------------------+------------------+-------------------+------------------+------+---------------+--------+----------+-------------+------------+\n",
      "|Rooms|    Price|Distance|          Bedroom2|          Bathroom|               Car|          Lattitude|        Longtitude|Type_2|Propertycount_2|Suburb_2|Landsize_2|CouncilArea_2|Regionname_2|\n",
      "+-----+---------+--------+------------------+------------------+------------------+-------------------+------------------+------+---------------+--------+----------+-------------+------------+\n",
      "|    2|1480000.0|     2.5|               2.0|               1.0|               1.0|           -37.7996|          144.9984|   0.0|           84.0|    85.0|       1.0|         13.0|         1.0|\n",
      "|    2|1035000.0|     2.5|               2.0|               1.0|               0.0|           -37.8079|          144.9934|   0.0|           84.0|    85.0|       1.0|         13.0|         1.0|\n",
      "|    3|1465000.0|     2.5|               3.0|               2.0|               0.0|           -37.8093|          144.9944|   0.0|           84.0|    85.0|       1.0|         13.0|         1.0|\n",
      "|    3| 850000.0|     2.5|               3.0|               2.0|               1.0|           -37.7969|          144.9969|   0.0|           84.0|    85.0|       1.0|         13.0|         1.0|\n",
      "|    4|1600000.0|     2.5|               3.0|               1.0|               2.0|           -37.8072|          144.9941|   0.0|           84.0|    85.0|       1.0|         13.0|         1.0|\n",
      "|    2| 941000.0|     2.5|               2.0|               1.0|               0.0|           -37.8041|          144.9953|   0.0|           84.0|    85.0|       1.0|         13.0|         1.0|\n",
      "|    3|1876000.0|     2.5|               4.0|               2.0|               0.0|           -37.8024|          144.9993|   0.0|           84.0|    85.0|       1.0|         13.0|         1.0|\n",
      "|    2|1636000.0|     2.5|               2.0|               1.0|               2.0|            -37.806|          144.9954|   0.0|           84.0|    85.0|       1.0|         13.0|         1.0|\n",
      "|    3|1000000.0|     2.5|3.0462366625012014|1.5916826923076923|1.7153699260637516|-37.806963027199544|144.99671101938742|   0.0|           84.0|    85.0|       0.0|         13.0|         1.0|\n",
      "|    2| 745000.0|     2.5|3.0462366625012014|1.5916826923076923|1.7153699260637516|-37.806963027199544|144.99671101938742|   2.0|           84.0|    85.0|       0.0|         13.0|         1.0|\n",
      "|    1| 300000.0|     2.5|               1.0|               1.0|               1.0|           -37.8008|          144.9973|   1.0|           84.0|    85.0|       1.0|         13.0|         1.0|\n",
      "|    2|1097000.0|     2.5|               3.0|               1.0|               2.0|            -37.801|          144.9989|   0.0|           84.0|    85.0|       1.0|         13.0|         1.0|\n",
      "|    2| 542000.0|     2.5|3.0462366625012014|1.5916826923076923|1.7153699260637516|-37.806963027199544|144.99671101938742|   1.0|           84.0|    85.0|       0.0|         13.0|         1.0|\n",
      "|    2| 760000.0|     2.5|3.0462366625012014|1.5916826923076923|1.7153699260637516|-37.806963027199544|144.99671101938742|   1.0|           84.0|    85.0|       0.0|         13.0|         1.0|\n",
      "|    1| 481000.0|     2.5|3.0462366625012014|1.5916826923076923|1.7153699260637516|-37.806963027199544|144.99671101938742|   1.0|           84.0|    85.0|       0.0|         13.0|         1.0|\n",
      "|    2| 700000.0|     2.5|               2.0|               2.0|               1.0|            -37.811|          145.0067|   1.0|           84.0|    85.0|       1.0|         13.0|         1.0|\n",
      "|    3|1350000.0|     2.5|               3.0|               2.0|               2.0|           -37.8085|          144.9964|   0.0|           84.0|    85.0|       1.0|         13.0|         1.0|\n",
      "|    2| 750000.0|     2.5|               2.0|               2.0|               1.0|           -37.8078|          144.9965|   1.0|           84.0|    85.0|       1.0|         13.0|         1.0|\n",
      "|    4|1985000.0|     2.5|3.0462366625012014|1.5916826923076923|1.7153699260637516|           -37.8084|          144.9942|   0.0|           84.0|    85.0|       0.0|         13.0|         1.0|\n",
      "|    1| 500000.0|     2.5|3.0462366625012014|1.5916826923076923|1.7153699260637516|-37.806963027199544|144.99671101938742|   1.0|           84.0|    85.0|       0.0|         13.0|         1.0|\n",
      "+-----+---------+--------+------------------+------------------+------------------+-------------------+------------------+------+---------------+--------+----------+-------------+------------+\n",
      "only showing top 20 rows\n",
      "\n"
     ]
    }
   ],
   "source": [
    "# Encoding categorical data\n",
    "\n",
    "cat_columns = ['Type', 'Propertycount','Suburb', 'Landsize', 'CouncilArea', 'Regionname']\n",
    "\n",
    "for col in cat_columns:\n",
    "    new_name = col + '_2'\n",
    "    indexer = StringIndexer (inputCol=col, outputCol=new_name)\n",
    "    data = indexer.fit(data).transform(data)\n",
    "\n",
    "data = data.select([column for column in data.columns if column not in cat_columns])\n",
    "\n",
    "data.show()"
   ]
  },
  {
   "cell_type": "code",
   "execution_count": 31,
   "metadata": {
    "scrolled": true
   },
   "outputs": [
    {
     "data": {
      "text/plain": [
       "[('Rooms', 'bigint'),\n",
       " ('Price', 'double'),\n",
       " ('Distance', 'string'),\n",
       " ('Bedroom2', 'double'),\n",
       " ('Bathroom', 'double'),\n",
       " ('Car', 'double'),\n",
       " ('Lattitude', 'double'),\n",
       " ('Longtitude', 'double'),\n",
       " ('Type_2', 'double'),\n",
       " ('Propertycount_2', 'double'),\n",
       " ('Suburb_2', 'double'),\n",
       " ('Landsize_2', 'double'),\n",
       " ('CouncilArea_2', 'double'),\n",
       " ('Regionname_2', 'double')]"
      ]
     },
     "execution_count": 31,
     "metadata": {},
     "output_type": "execute_result"
    }
   ],
   "source": [
    "data.dtypes"
   ]
  },
  {
   "cell_type": "code",
   "execution_count": 32,
   "metadata": {},
   "outputs": [],
   "source": [
    "# Convert Distance to a numeric type\n",
    "\n",
    "data = data.withColumn(\"Distance\", data.Distance.cast('double'))"
   ]
  },
  {
   "cell_type": "code",
   "execution_count": 33,
   "metadata": {},
   "outputs": [],
   "source": [
    "# Bug where a single null was getting through, so removed it.  \n",
    "data = data.dropna() "
   ]
  },
  {
   "cell_type": "markdown",
   "metadata": {},
   "source": [
    "# 4.1 Data Reduction"
   ]
  },
  {
   "cell_type": "code",
   "execution_count": 34,
   "metadata": {},
   "outputs": [
    {
     "data": {
      "text/html": [
       "<div>\n",
       "<style scoped>\n",
       "    .dataframe tbody tr th:only-of-type {\n",
       "        vertical-align: middle;\n",
       "    }\n",
       "\n",
       "    .dataframe tbody tr th {\n",
       "        vertical-align: top;\n",
       "    }\n",
       "\n",
       "    .dataframe thead th {\n",
       "        text-align: right;\n",
       "    }\n",
       "</style>\n",
       "<table border=\"1\" class=\"dataframe\">\n",
       "  <thead>\n",
       "    <tr style=\"text-align: right;\">\n",
       "      <th></th>\n",
       "      <th>Rooms</th>\n",
       "      <th>Price</th>\n",
       "      <th>Distance</th>\n",
       "      <th>Bedroom2</th>\n",
       "      <th>Bathroom</th>\n",
       "      <th>Car</th>\n",
       "      <th>Lattitude</th>\n",
       "      <th>Longtitude</th>\n",
       "      <th>Type_2</th>\n",
       "      <th>Propertycount_2</th>\n",
       "      <th>Suburb_2</th>\n",
       "      <th>Landsize_2</th>\n",
       "      <th>CouncilArea_2</th>\n",
       "      <th>Regionname_2</th>\n",
       "    </tr>\n",
       "  </thead>\n",
       "  <tbody>\n",
       "    <tr>\n",
       "      <th>Rooms</th>\n",
       "      <td>1.000000</td>\n",
       "      <td>0.482461</td>\n",
       "      <td>0.325439</td>\n",
       "      <td>0.826696</td>\n",
       "      <td>0.487883</td>\n",
       "      <td>0.339163</td>\n",
       "      <td>0.052016</td>\n",
       "      <td>0.088677</td>\n",
       "      <td>-0.356456</td>\n",
       "      <td>0.148712</td>\n",
       "      <td>0.151979</td>\n",
       "      <td>-0.177304</td>\n",
       "      <td>0.119958</td>\n",
       "      <td>0.187110</td>\n",
       "    </tr>\n",
       "    <tr>\n",
       "      <th>Price</th>\n",
       "      <td>0.482461</td>\n",
       "      <td>1.000000</td>\n",
       "      <td>-0.186682</td>\n",
       "      <td>0.387000</td>\n",
       "      <td>0.321207</td>\n",
       "      <td>0.167364</td>\n",
       "      <td>-0.256884</td>\n",
       "      <td>0.192111</td>\n",
       "      <td>-0.302269</td>\n",
       "      <td>-0.115941</td>\n",
       "      <td>-0.119110</td>\n",
       "      <td>-0.042857</td>\n",
       "      <td>-0.107896</td>\n",
       "      <td>-0.193081</td>\n",
       "    </tr>\n",
       "    <tr>\n",
       "      <th>Distance</th>\n",
       "      <td>0.325439</td>\n",
       "      <td>-0.186682</td>\n",
       "      <td>1.000000</td>\n",
       "      <td>0.284914</td>\n",
       "      <td>0.156874</td>\n",
       "      <td>0.238820</td>\n",
       "      <td>0.035269</td>\n",
       "      <td>0.241496</td>\n",
       "      <td>-0.153649</td>\n",
       "      <td>0.480360</td>\n",
       "      <td>0.482740</td>\n",
       "      <td>-0.262690</td>\n",
       "      <td>0.487236</td>\n",
       "      <td>0.462245</td>\n",
       "    </tr>\n",
       "    <tr>\n",
       "      <th>Bedroom2</th>\n",
       "      <td>0.826696</td>\n",
       "      <td>0.387000</td>\n",
       "      <td>0.284914</td>\n",
       "      <td>1.000000</td>\n",
       "      <td>0.574252</td>\n",
       "      <td>0.405966</td>\n",
       "      <td>0.054126</td>\n",
       "      <td>0.105086</td>\n",
       "      <td>-0.271569</td>\n",
       "      <td>0.134169</td>\n",
       "      <td>0.137088</td>\n",
       "      <td>-0.282811</td>\n",
       "      <td>0.109236</td>\n",
       "      <td>0.166892</td>\n",
       "    </tr>\n",
       "    <tr>\n",
       "      <th>Bathroom</th>\n",
       "      <td>0.487883</td>\n",
       "      <td>0.321207</td>\n",
       "      <td>0.156874</td>\n",
       "      <td>0.574252</td>\n",
       "      <td>1.000000</td>\n",
       "      <td>0.302148</td>\n",
       "      <td>-0.033448</td>\n",
       "      <td>0.102633</td>\n",
       "      <td>-0.017110</td>\n",
       "      <td>0.087472</td>\n",
       "      <td>0.089342</td>\n",
       "      <td>-0.111485</td>\n",
       "      <td>0.088010</td>\n",
       "      <td>0.056792</td>\n",
       "    </tr>\n",
       "    <tr>\n",
       "      <th>Car</th>\n",
       "      <td>0.339163</td>\n",
       "      <td>0.167364</td>\n",
       "      <td>0.238820</td>\n",
       "      <td>0.405966</td>\n",
       "      <td>0.302148</td>\n",
       "      <td>1.000000</td>\n",
       "      <td>0.010387</td>\n",
       "      <td>0.066473</td>\n",
       "      <td>-0.128671</td>\n",
       "      <td>0.080178</td>\n",
       "      <td>0.082929</td>\n",
       "      <td>-0.272025</td>\n",
       "      <td>0.063686</td>\n",
       "      <td>0.092827</td>\n",
       "    </tr>\n",
       "    <tr>\n",
       "      <th>Lattitude</th>\n",
       "      <td>0.052016</td>\n",
       "      <td>-0.256884</td>\n",
       "      <td>0.035269</td>\n",
       "      <td>0.054126</td>\n",
       "      <td>-0.033448</td>\n",
       "      <td>0.010387</td>\n",
       "      <td>1.000000</td>\n",
       "      <td>-0.322008</td>\n",
       "      <td>-0.106520</td>\n",
       "      <td>-0.045110</td>\n",
       "      <td>-0.043778</td>\n",
       "      <td>0.005715</td>\n",
       "      <td>-0.191589</td>\n",
       "      <td>0.098835</td>\n",
       "    </tr>\n",
       "    <tr>\n",
       "      <th>Longtitude</th>\n",
       "      <td>0.088677</td>\n",
       "      <td>0.192111</td>\n",
       "      <td>0.241496</td>\n",
       "      <td>0.105086</td>\n",
       "      <td>0.102633</td>\n",
       "      <td>0.066473</td>\n",
       "      <td>-0.322008</td>\n",
       "      <td>1.000000</td>\n",
       "      <td>-0.006642</td>\n",
       "      <td>0.128370</td>\n",
       "      <td>0.132439</td>\n",
       "      <td>-0.136951</td>\n",
       "      <td>0.169627</td>\n",
       "      <td>0.093558</td>\n",
       "    </tr>\n",
       "    <tr>\n",
       "      <th>Type_2</th>\n",
       "      <td>-0.356456</td>\n",
       "      <td>-0.302269</td>\n",
       "      <td>-0.153649</td>\n",
       "      <td>-0.271569</td>\n",
       "      <td>-0.017110</td>\n",
       "      <td>-0.128671</td>\n",
       "      <td>-0.106520</td>\n",
       "      <td>-0.006642</td>\n",
       "      <td>1.000000</td>\n",
       "      <td>-0.113889</td>\n",
       "      <td>-0.115708</td>\n",
       "      <td>0.071604</td>\n",
       "      <td>-0.097860</td>\n",
       "      <td>-0.143931</td>\n",
       "    </tr>\n",
       "    <tr>\n",
       "      <th>Propertycount_2</th>\n",
       "      <td>0.148712</td>\n",
       "      <td>-0.115941</td>\n",
       "      <td>0.480360</td>\n",
       "      <td>0.134169</td>\n",
       "      <td>0.087472</td>\n",
       "      <td>0.080178</td>\n",
       "      <td>-0.045110</td>\n",
       "      <td>0.128370</td>\n",
       "      <td>-0.113889</td>\n",
       "      <td>1.000000</td>\n",
       "      <td>0.991844</td>\n",
       "      <td>-0.150497</td>\n",
       "      <td>0.503852</td>\n",
       "      <td>0.441718</td>\n",
       "    </tr>\n",
       "    <tr>\n",
       "      <th>Suburb_2</th>\n",
       "      <td>0.151979</td>\n",
       "      <td>-0.119110</td>\n",
       "      <td>0.482740</td>\n",
       "      <td>0.137088</td>\n",
       "      <td>0.089342</td>\n",
       "      <td>0.082929</td>\n",
       "      <td>-0.043778</td>\n",
       "      <td>0.132439</td>\n",
       "      <td>-0.115708</td>\n",
       "      <td>0.991844</td>\n",
       "      <td>1.000000</td>\n",
       "      <td>-0.151470</td>\n",
       "      <td>0.504738</td>\n",
       "      <td>0.446780</td>\n",
       "    </tr>\n",
       "    <tr>\n",
       "      <th>Landsize_2</th>\n",
       "      <td>-0.177304</td>\n",
       "      <td>-0.042857</td>\n",
       "      <td>-0.262690</td>\n",
       "      <td>-0.282811</td>\n",
       "      <td>-0.111485</td>\n",
       "      <td>-0.272025</td>\n",
       "      <td>0.005715</td>\n",
       "      <td>-0.136951</td>\n",
       "      <td>0.071604</td>\n",
       "      <td>-0.150497</td>\n",
       "      <td>-0.151470</td>\n",
       "      <td>1.000000</td>\n",
       "      <td>-0.094424</td>\n",
       "      <td>-0.131035</td>\n",
       "    </tr>\n",
       "    <tr>\n",
       "      <th>CouncilArea_2</th>\n",
       "      <td>0.119958</td>\n",
       "      <td>-0.107896</td>\n",
       "      <td>0.487236</td>\n",
       "      <td>0.109236</td>\n",
       "      <td>0.088010</td>\n",
       "      <td>0.063686</td>\n",
       "      <td>-0.191589</td>\n",
       "      <td>0.169627</td>\n",
       "      <td>-0.097860</td>\n",
       "      <td>0.503852</td>\n",
       "      <td>0.504738</td>\n",
       "      <td>-0.094424</td>\n",
       "      <td>1.000000</td>\n",
       "      <td>0.479017</td>\n",
       "    </tr>\n",
       "    <tr>\n",
       "      <th>Regionname_2</th>\n",
       "      <td>0.187110</td>\n",
       "      <td>-0.193081</td>\n",
       "      <td>0.462245</td>\n",
       "      <td>0.166892</td>\n",
       "      <td>0.056792</td>\n",
       "      <td>0.092827</td>\n",
       "      <td>0.098835</td>\n",
       "      <td>0.093558</td>\n",
       "      <td>-0.143931</td>\n",
       "      <td>0.441718</td>\n",
       "      <td>0.446780</td>\n",
       "      <td>-0.131035</td>\n",
       "      <td>0.479017</td>\n",
       "      <td>1.000000</td>\n",
       "    </tr>\n",
       "  </tbody>\n",
       "</table>\n",
       "</div>"
      ],
      "text/plain": [
       "                    Rooms     Price  Distance  Bedroom2  Bathroom       Car  \\\n",
       "Rooms            1.000000  0.482461  0.325439  0.826696  0.487883  0.339163   \n",
       "Price            0.482461  1.000000 -0.186682  0.387000  0.321207  0.167364   \n",
       "Distance         0.325439 -0.186682  1.000000  0.284914  0.156874  0.238820   \n",
       "Bedroom2         0.826696  0.387000  0.284914  1.000000  0.574252  0.405966   \n",
       "Bathroom         0.487883  0.321207  0.156874  0.574252  1.000000  0.302148   \n",
       "Car              0.339163  0.167364  0.238820  0.405966  0.302148  1.000000   \n",
       "Lattitude        0.052016 -0.256884  0.035269  0.054126 -0.033448  0.010387   \n",
       "Longtitude       0.088677  0.192111  0.241496  0.105086  0.102633  0.066473   \n",
       "Type_2          -0.356456 -0.302269 -0.153649 -0.271569 -0.017110 -0.128671   \n",
       "Propertycount_2  0.148712 -0.115941  0.480360  0.134169  0.087472  0.080178   \n",
       "Suburb_2         0.151979 -0.119110  0.482740  0.137088  0.089342  0.082929   \n",
       "Landsize_2      -0.177304 -0.042857 -0.262690 -0.282811 -0.111485 -0.272025   \n",
       "CouncilArea_2    0.119958 -0.107896  0.487236  0.109236  0.088010  0.063686   \n",
       "Regionname_2     0.187110 -0.193081  0.462245  0.166892  0.056792  0.092827   \n",
       "\n",
       "                 Lattitude  Longtitude    Type_2  Propertycount_2  Suburb_2  \\\n",
       "Rooms             0.052016    0.088677 -0.356456         0.148712  0.151979   \n",
       "Price            -0.256884    0.192111 -0.302269        -0.115941 -0.119110   \n",
       "Distance          0.035269    0.241496 -0.153649         0.480360  0.482740   \n",
       "Bedroom2          0.054126    0.105086 -0.271569         0.134169  0.137088   \n",
       "Bathroom         -0.033448    0.102633 -0.017110         0.087472  0.089342   \n",
       "Car               0.010387    0.066473 -0.128671         0.080178  0.082929   \n",
       "Lattitude         1.000000   -0.322008 -0.106520        -0.045110 -0.043778   \n",
       "Longtitude       -0.322008    1.000000 -0.006642         0.128370  0.132439   \n",
       "Type_2           -0.106520   -0.006642  1.000000        -0.113889 -0.115708   \n",
       "Propertycount_2  -0.045110    0.128370 -0.113889         1.000000  0.991844   \n",
       "Suburb_2         -0.043778    0.132439 -0.115708         0.991844  1.000000   \n",
       "Landsize_2        0.005715   -0.136951  0.071604        -0.150497 -0.151470   \n",
       "CouncilArea_2    -0.191589    0.169627 -0.097860         0.503852  0.504738   \n",
       "Regionname_2      0.098835    0.093558 -0.143931         0.441718  0.446780   \n",
       "\n",
       "                 Landsize_2  CouncilArea_2  Regionname_2  \n",
       "Rooms             -0.177304       0.119958      0.187110  \n",
       "Price             -0.042857      -0.107896     -0.193081  \n",
       "Distance          -0.262690       0.487236      0.462245  \n",
       "Bedroom2          -0.282811       0.109236      0.166892  \n",
       "Bathroom          -0.111485       0.088010      0.056792  \n",
       "Car               -0.272025       0.063686      0.092827  \n",
       "Lattitude          0.005715      -0.191589      0.098835  \n",
       "Longtitude        -0.136951       0.169627      0.093558  \n",
       "Type_2             0.071604      -0.097860     -0.143931  \n",
       "Propertycount_2   -0.150497       0.503852      0.441718  \n",
       "Suburb_2          -0.151470       0.504738      0.446780  \n",
       "Landsize_2         1.000000      -0.094424     -0.131035  \n",
       "CouncilArea_2     -0.094424       1.000000      0.479017  \n",
       "Regionname_2      -0.131035       0.479017      1.000000  "
      ]
     },
     "execution_count": 34,
     "metadata": {},
     "output_type": "execute_result"
    }
   ],
   "source": [
    "data = convert_pandas(data)\n",
    "data.corr() "
   ]
  },
  {
   "cell_type": "code",
   "execution_count": 35,
   "metadata": {
    "scrolled": true
   },
   "outputs": [],
   "source": [
    "# ITERATION*****************************\n",
    "\n",
    "to_remove = ['Car', 'Landsize_2', 'Propertycount_2', 'CouncilArea_2', 'Regionname_2', 'Suburb_2']\n",
    "\n",
    "# Removing columns from both data sets\n",
    "data_pruned = data.drop(to_remove, axis=1)"
   ]
  },
  {
   "cell_type": "markdown",
   "metadata": {},
   "source": [
    "# 4.2 Statistical Transformation "
   ]
  },
  {
   "cell_type": "code",
   "execution_count": 36,
   "metadata": {},
   "outputs": [
    {
     "data": {
      "text/plain": [
       "(array([  12.,  281., 1166., 2284., 3209., 3293., 2815., 2273., 1751.,\n",
       "        1475., 1500., 1130.,  811.,  709.,  553.,  580.,  359.,  215.,\n",
       "         235.,  197.,  150.,  112.,  117.,  108.,   73.]),\n",
       " array([  85000.,  199200.,  313400.,  427600.,  541800.,  656000.,\n",
       "         770200.,  884400.,  998600., 1112800., 1227000., 1341200.,\n",
       "        1455400., 1569600., 1683800., 1798000., 1912200., 2026400.,\n",
       "        2140600., 2254800., 2369000., 2483200., 2597400., 2711600.,\n",
       "        2825800., 2940000.]),\n",
       " <a list of 25 Patch objects>)"
      ]
     },
     "execution_count": 36,
     "metadata": {},
     "output_type": "execute_result"
    },
    {
     "data": {
      "image/png": "[encoded data removed]",
      "text/plain": [
       "<Figure size 864x576 with 1 Axes>"
      ]
     },
     "metadata": {},
     "output_type": "display_data"
    }
   ],
   "source": [
    "import matplotlib.pyplot as plt\n",
    "import numpy as np \n",
    "%matplotlib inline\n",
    "\n",
    "plt.figure(figsize=(12,8))\n",
    "plt.hist(data_pruned['Price'], bins=25)"
   ]
  },
  {
   "cell_type": "code",
   "execution_count": 37,
   "metadata": {},
   "outputs": [
    {
     "data": {
      "text/plain": [
       "{'boxes': [<matplotlib.lines.Line2D at 0x7fac88ea8cc0>],\n",
       " 'caps': [<matplotlib.lines.Line2D at 0x7fac88eb2710>,\n",
       "  <matplotlib.lines.Line2D at 0x7fac88eb2b38>],\n",
       " 'fliers': [<matplotlib.lines.Line2D at 0x7fac88eb93c8>],\n",
       " 'means': [],\n",
       " 'medians': [<matplotlib.lines.Line2D at 0x7fac88eb2f60>],\n",
       " 'whiskers': [<matplotlib.lines.Line2D at 0x7fac88ea8e10>,\n",
       "  <matplotlib.lines.Line2D at 0x7fac88eb22e8>]}"
      ]
     },
     "execution_count": 37,
     "metadata": {},
     "output_type": "execute_result"
    },
    {
     "data": {
      "image/png": "[encoded data removed]",
      "text/plain": [
       "<Figure size 864x576 with 1 Axes>"
      ]
     },
     "metadata": {},
     "output_type": "display_data"
    }
   ],
   "source": [
    "plt.figure(figsize=(12,8))\n",
    "plt.boxplot(data_pruned['Price'])"
   ]
  },
  {
   "cell_type": "code",
   "execution_count": 38,
   "metadata": {},
   "outputs": [],
   "source": [
    "log_data = data_pruned.copy()\n",
    "log_data['Price'] = np.log10(log_data['Price'])"
   ]
  },
  {
   "cell_type": "code",
   "execution_count": 39,
   "metadata": {},
   "outputs": [
    {
     "data": {
      "text/plain": [
       "(array([1.000e+00, 1.000e+00, 1.000e+00, 3.000e+00, 3.000e+00, 3.000e+00,\n",
       "        1.700e+01, 5.500e+01, 1.550e+02, 3.270e+02, 5.610e+02, 9.750e+02,\n",
       "        1.510e+03, 2.123e+03, 2.858e+03, 2.998e+03, 2.836e+03, 2.271e+03,\n",
       "        2.257e+03, 2.111e+03, 1.565e+03, 1.241e+03, 6.990e+02, 5.130e+02,\n",
       "        3.240e+02]),\n",
       " array([4.92941893, 4.99097606, 5.0525332 , 5.11409033, 5.17564747,\n",
       "        5.23720461, 5.29876174, 5.36031888, 5.42187602, 5.48343315,\n",
       "        5.54499029, 5.60654742, 5.66810456, 5.7296617 , 5.79121883,\n",
       "        5.85277597, 5.9143331 , 5.97589024, 6.03744738, 6.09900451,\n",
       "        6.16056165, 6.22211879, 6.28367592, 6.34523306, 6.40679019,\n",
       "        6.46834733]),\n",
       " <a list of 25 Patch objects>)"
      ]
     },
     "execution_count": 39,
     "metadata": {},
     "output_type": "execute_result"
    },
    {
     "data": {
      "image/png": "[encoded data removed]",
      "text/plain": [
       "<Figure size 864x576 with 1 Axes>"
      ]
     },
     "metadata": {},
     "output_type": "display_data"
    }
   ],
   "source": [
    "plt.figure(figsize=(12,8))\n",
    "plt.hist(log_data['Price'], bins=25)"
   ]
  },
  {
   "cell_type": "markdown",
   "metadata": {},
   "source": [
    "# 6.1 Algorithm Exploration "
   ]
  },
  {
   "cell_type": "code",
   "execution_count": 40,
   "metadata": {},
   "outputs": [],
   "source": [
    "# Import VectorAssembler and Vectors\n",
    "from pyspark.ml.linalg import Vectors\n",
    "from pyspark.ml.feature import VectorAssembler"
   ]
  },
  {
   "cell_type": "code",
   "execution_count": 41,
   "metadata": {},
   "outputs": [],
   "source": [
    "# Depending on what data you want to proceed using - makes it less cluttered\n",
    "\n",
    "df = log_data.copy()\n",
    "# df = data_pruned\n",
    "\n",
    "df = convert_spark(df)\n",
    "data_pruned = convert_spark(data_pruned)\n",
    "log_data = convert_spark(log_data)"
   ]
  },
  {
   "cell_type": "code",
   "execution_count": 42,
   "metadata": {},
   "outputs": [
    {
     "name": "stdout",
     "output_type": "stream",
     "text": [
      "['Rooms', 'Distance', 'Bedroom2', 'Bathroom', 'Lattitude', 'Longtitude', 'Type_2']\n"
     ]
    }
   ],
   "source": [
    "# Getting data into appropriate format for ML using VECTORS\n",
    "\n",
    "input_columns = df.drop('Price').columns\n",
    "print(input_columns)\n",
    "\n",
    "assembler = VectorAssembler(inputCols=input_columns, outputCol='features')\n",
    "output = assembler.transform(df)\n",
    "output.head(1)\n",
    "\n",
    "ml_data = output.select('features', 'Price')"
   ]
  },
  {
   "cell_type": "code",
   "execution_count": 43,
   "metadata": {},
   "outputs": [
    {
     "data": {
      "text/plain": [
       "[Row(Rooms=2, Price=6.1702617153949575, Distance=2.5, Bedroom2=2.0, Bathroom=1.0, Lattitude=-37.7996, Longtitude=144.9984, Type_2=0.0, features=DenseVector([2.0, 2.5, 2.0, 1.0, -37.7996, 144.9984, 0.0]))]"
      ]
     },
     "execution_count": 43,
     "metadata": {},
     "output_type": "execute_result"
    }
   ],
   "source": [
    "output.head(1)"
   ]
  },
  {
   "cell_type": "code",
   "execution_count": 44,
   "metadata": {
    "scrolled": true
   },
   "outputs": [
    {
     "name": "stdout",
     "output_type": "stream",
     "text": [
      "+--------------------+------------------+\n",
      "|            features|             Price|\n",
      "+--------------------+------------------+\n",
      "|[2.0,2.5,2.0,1.0,...|6.1702617153949575|\n",
      "|[2.0,2.5,2.0,1.0,...| 6.014940349792937|\n",
      "|[3.0,2.5,3.0,2.0,...| 6.165837624690128|\n",
      "|[3.0,2.5,3.0,2.0,...| 5.929418925714293|\n",
      "|[4.0,2.5,3.0,1.0,...| 6.204119982655925|\n",
      "|[2.0,2.5,2.0,1.0,...| 5.973589623427257|\n",
      "|[3.0,2.5,4.0,2.0,...| 6.273232834043045|\n",
      "|[2.0,2.5,2.0,1.0,...| 6.213783299335304|\n",
      "|[3.0,2.5,3.046236...|               6.0|\n",
      "|[2.0,2.5,3.046236...| 5.872156272748293|\n",
      "|[1.0,2.5,1.0,1.0,...| 5.477121254719663|\n",
      "|[2.0,2.5,3.0,1.0,...| 6.040206627574711|\n",
      "|[2.0,2.5,3.046236...| 5.733999286538387|\n",
      "|[2.0,2.5,3.046236...| 5.880813592280791|\n",
      "|[1.0,2.5,3.046236...| 5.682145076373832|\n",
      "|[2.0,2.5,2.0,2.0,...| 5.845098040014257|\n",
      "|[3.0,2.5,3.0,2.0,...|6.1303337684950066|\n",
      "|[2.0,2.5,2.0,2.0,...|   5.8750612633917|\n",
      "|[4.0,2.5,3.046236...| 6.297760511099134|\n",
      "|[1.0,2.5,3.046236...| 5.698970004336019|\n",
      "+--------------------+------------------+\n",
      "only showing top 20 rows\n",
      "\n"
     ]
    }
   ],
   "source": [
    "ml_data.show() "
   ]
  },
  {
   "cell_type": "code",
   "execution_count": 45,
   "metadata": {},
   "outputs": [],
   "source": [
    "def get_accuracy (results, test):\n",
    "    \n",
    "    predictions = convert_pandas(results.predictions)['prediction']\n",
    "    \n",
    "    test_set = convert_pandas(test.select('Price'))['Price']\n",
    "    \n",
    "    index = 0\n",
    "    differences = []\n",
    "    diff_percent = []\n",
    "    y = list(test_set)\n",
    "\n",
    "    for prediction in predictions:\n",
    "        diff = (  abs((10**prediction) - (10**y[index]))  )\n",
    "        differences.append(diff)\n",
    "\n",
    "        percent = (diff/10**y[index]) * 100\n",
    "        diff_percent.append(percent)\n",
    "        index += 1\n",
    "\n",
    "    print('mean difference', statistics.mean(differences))\n",
    "    print('mean difference percentage', statistics.mean(diff_percent))\n",
    "    return [differences, diff_percent]"
   ]
  },
  {
   "cell_type": "code",
   "execution_count": 46,
   "metadata": {},
   "outputs": [],
   "source": [
    "# UNCOMMENT FOR ITERATION\n",
    "\n",
    "# def get_accuracy (results, test):\n",
    "    \n",
    "#     predictions = convert_pandas(results.predictions)['prediction']\n",
    "    \n",
    "#     test_set = convert_pandas(test.select('Price'))['Price']\n",
    "    \n",
    "#     index = 0\n",
    "#     differences = []\n",
    "#     diff_percent = []\n",
    "#     y = list(test_set)\n",
    "\n",
    "#     for prediction in predictions:\n",
    "#         diff = abs(prediction - y[index])\n",
    "#         differences.append(diff)\n",
    "    \n",
    "#         percent = (diff/y[index]) * 100\n",
    "#         diff_percent.append(percent)\n",
    "#         index += 1\n",
    "        \n",
    "#     print('mean difference', statistics.mean(differences))\n",
    "#     print('mean difference percentage', statistics.mean(diff_percent))\n",
    "#     return [differences, diff_percent]"
   ]
  },
  {
   "cell_type": "code",
   "execution_count": 47,
   "metadata": {},
   "outputs": [],
   "source": [
    "# Creating train/test splits to test models. \n",
    "\n",
    "train_data, test_data = ml_data.randomSplit([0.95,0.05], seed=5)"
   ]
  },
  {
   "cell_type": "code",
   "execution_count": 48,
   "metadata": {},
   "outputs": [],
   "source": [
    "# Create models\n",
    "\n",
    "lasso = LinearRegression(labelCol='Price', predictionCol='prediction', elasticNetParam=1)\n",
    "ridge = LinearRegression(labelCol='Price', predictionCol='prediction', elasticNetParam=0)\n",
    "linear = LinearRegression(labelCol='Price', predictionCol='prediction')\n",
    "SGD = LinearRegression(labelCol='Price', predictionCol='prediction', solver='gd')\n"
   ]
  },
  {
   "cell_type": "code",
   "execution_count": 49,
   "metadata": {},
   "outputs": [],
   "source": [
    "# Fit the models\n",
    "\n",
    "las_model = lasso.fit(train_data)\n",
    "ridge_model = ridge.fit(train_data)\n",
    "lr_model = linear.fit(train_data)\n",
    "SGD_model = SGD.fit(train_data)\n"
   ]
  },
  {
   "cell_type": "code",
   "execution_count": 50,
   "metadata": {
    "scrolled": true
   },
   "outputs": [],
   "source": [
    "# Evaluate models on test data\n",
    "\n",
    "las_results = las_model.evaluate(test_data)\n",
    "ridge_results = ridge_model.evaluate(test_data)\n",
    "lr_results = lr_model.evaluate(test_data)\n",
    "SGD_results = SGD_model.evaluate(test_data)\n"
   ]
  },
  {
   "cell_type": "code",
   "execution_count": 51,
   "metadata": {
    "scrolled": false
   },
   "outputs": [
    {
     "name": "stdout",
     "output_type": "stream",
     "text": [
      "Lasso:\n",
      "mean difference 250513.67780710265\n",
      "mean difference percentage 26.031334759086967\n",
      "r2: 0.5513070766328295\n",
      "RMSE: 0.13946686234058267 \n",
      "\n",
      "Ridge:\n",
      "mean difference 250513.67780710265\n",
      "mean difference percentage 26.031334759086967\n",
      "r2: 0.5513070766328295\n",
      "RMSE: 0.13946686234058267 \n",
      "\n",
      "Linear:\n",
      "mean difference 250513.67780710265\n",
      "mean difference percentage 26.031334759086967\n",
      "r2: 0.5513070766328295\n",
      "RMSE: 0.13946686234058267 \n",
      "\n",
      "SGD:\n",
      "mean difference 250513.67250111222\n",
      "mean difference percentage 26.03133474236153\n",
      "r2: 0.5513070758896024\n",
      "RMSE: 0.13946686245609102 \n",
      "\n"
     ]
    }
   ],
   "source": [
    "# Outcomes\n",
    "print('Lasso:')\n",
    "x =get_accuracy(las_results, test_data)\n",
    "print(\"r2: {}\".format(las_results.r2))\n",
    "print(\"RMSE: {}\".format(las_results.rootMeanSquaredError), '\\n')\n",
    "\n",
    "print('Ridge:')\n",
    "y = get_accuracy(ridge_results, test_data)\n",
    "print(\"r2: {}\".format(ridge_results.r2))\n",
    "print(\"RMSE: {}\".format(ridge_results.rootMeanSquaredError), '\\n')\n",
    "\n",
    "print('Linear:')\n",
    "z = get_accuracy(lr_results, test_data)\n",
    "print(\"r2: {}\".format(lr_results.r2))\n",
    "print(\"RMSE: {}\".format(lr_results.rootMeanSquaredError), '\\n')\n",
    "\n",
    "print('SGD:')\n",
    "z = get_accuracy(SGD_results, test_data)\n",
    "print(\"r2: {}\".format(SGD_results.r2))\n",
    "print(\"RMSE: {}\".format(SGD_results.rootMeanSquaredError), '\\n')\n"
   ]
  },
  {
   "cell_type": "markdown",
   "metadata": {},
   "source": [
    "# 6.3 Parameter Selection"
   ]
  },
  {
   "cell_type": "code",
   "execution_count": 52,
   "metadata": {},
   "outputs": [],
   "source": [
    "def cv_splits (data):\n",
    "    cv1, cv2, cv3, cv4, cv5, cv6, cv7, cv8, cv9, cv10 = ml_data.randomSplit([0.1,0.1,0.1,0.1,0.1,0.1,0.1,0.1,0.1,0.1])\n",
    "    return [cv1, cv2, cv3, cv4, cv5, cv6, cv7, cv8, cv9, cv10]"
   ]
  },
  {
   "cell_type": "code",
   "execution_count": 53,
   "metadata": {},
   "outputs": [],
   "source": [
    "# UNCOMMENT CODE TO FIND OPTIMAL PARAMETER\n",
    "# regParam\n",
    "\n",
    "# best_param = 0\n",
    "# error = 100000\n",
    "\n",
    "# for i in range(1,100):\n",
    "#     lr = LinearRegression(labelCol='Price', predictionCol='prediction', elasticNetParam=0, regParam=i)\n",
    "#     model = linear.fit(train_data)\n",
    "#     results = model.evaluate(test_data)\n",
    "#     if results.rootMeanSquaredError < error:\n",
    "#         error = results.rootMeanSquaredError\n",
    "#         best_param = i\n",
    "\n",
    "# print(best_param)\n",
    "# print(error)"
   ]
  },
  {
   "cell_type": "code",
   "execution_count": 54,
   "metadata": {},
   "outputs": [],
   "source": [
    "# UNCOMMENT CODE TO FIND OPTIMAL PARAMETER\n",
    "# elasticNetParam \n",
    "\n",
    "# net = 0\n",
    "# error = 100000\n",
    "\n",
    "# for i in list(numpy.linspace(0, 1, num=50)):\n",
    "#     lr = LinearRegression(labelCol='Price', predictionCol='prediction', elasticNetParam=i)\n",
    "#     model = linear.fit(train_data)\n",
    "#     results = model.evaluate(test_data)\n",
    "#     if results.rootMeanSquaredError < error:\n",
    "#         error = results.rootMeanSquaredError\n",
    "#         net = i\n",
    "        \n",
    "# print(net)\n",
    "# print(error)"
   ]
  },
  {
   "cell_type": "code",
   "execution_count": 55,
   "metadata": {},
   "outputs": [],
   "source": [
    "# UNCOMMENT CODE TO FIND OPTIMAL PARAMETER\n",
    "# fit intercept\n",
    "\n",
    "# for i in [True, False]:\n",
    "#     lr = LinearRegression(labelCol='Price', predictionCol='prediction', elasticNetParam=0, fitIntercept=i)\n",
    "#     model = lr.fit(train_data)\n",
    "#     results = model.evaluate(test_data)\n",
    "#     print('Intercept: ', i)\n",
    "#     print('Error: ', results.rootMeanSquaredError)"
   ]
  },
  {
   "cell_type": "markdown",
   "metadata": {},
   "source": [
    "# 7.2 Run Model"
   ]
  },
  {
   "cell_type": "code",
   "execution_count": 56,
   "metadata": {},
   "outputs": [],
   "source": [
    "# Final model \n",
    "\n",
    "lr = LinearRegression(labelCol='Price', predictionCol='prediction', elasticNetParam=0, regParam=0, fitIntercept=True)\n",
    "model = lr.fit(train_data)\n",
    "results = model.evaluate(test_data)"
   ]
  },
  {
   "cell_type": "markdown",
   "metadata": {},
   "source": [
    "# 7.3 Patterns and Outputs "
   ]
  },
  {
   "cell_type": "code",
   "execution_count": 57,
   "metadata": {},
   "outputs": [],
   "source": [
    "def get_stats (diff):\n",
    "    \n",
    "    diff = np.array(diff)\n",
    "    \n",
    "    print('Mean:', diff.mean())\n",
    "    print('Standard Deviation: ', diff.std())\n",
    "    print('Min: ', diff.min())\n",
    "    print('Max: ', diff.max(), '\\n')"
   ]
  },
  {
   "cell_type": "code",
   "execution_count": 58,
   "metadata": {},
   "outputs": [
    {
     "name": "stdout",
     "output_type": "stream",
     "text": [
      "mean difference 250513.67780710265\n",
      "mean difference percentage 26.031334759086967\n",
      "RMSE: 0.13946686234058267 \n",
      "\n",
      "Coefficients: [0.14606528397632731,-0.014991645257961593,-0.02908356027388674,0.041064984617047995,-0.654864671804895,0.4101105755800107,-0.06611184543773979] Intercept: -78.48344418442483 \n",
      "\n",
      "R2: 0.5513070766328295 \n",
      "\n",
      "Absolute Differences\n",
      "Mean: 250513.67780710262\n",
      "Standard Deviation:  247068.19620906195\n",
      "Min:  74.9846762958914\n",
      "Max:  1687138.0083347324 \n",
      "\n",
      "Percentage Differences\n",
      "Mean: 26.031334759086967\n",
      "Standard Deviation:  22.189608983894196\n",
      "Min:  0.009994758516726826\n",
      "Max:  273.6745258153362 \n",
      "\n"
     ]
    }
   ],
   "source": [
    "# Accuracy\n",
    "differences, diff_percent = get_accuracy(results, test_data)\n",
    "\n",
    "# Root Mean Squared Error\n",
    "print(\"RMSE: {}\".format(results.rootMeanSquaredError), '\\n')\n",
    "\n",
    "# Coefficients & Intercept \n",
    "print(\"Coefficients: {} Intercept: {}\".format(model.coefficients, model.intercept), '\\n')\n",
    "\n",
    "# R-Squared\n",
    "print(\"R2: {}\".format(results.r2), '\\n')\n",
    "\n",
    "print('Absolute Differences')\n",
    "get_stats(differences)\n",
    "print('Percentage Differences')\n",
    "get_stats(diff_percent)"
   ]
  },
  {
   "cell_type": "markdown",
   "metadata": {},
   "source": [
    "# 8.2 Visualise the Results"
   ]
  },
  {
   "cell_type": "code",
   "execution_count": 59,
   "metadata": {},
   "outputs": [],
   "source": [
    "import matplotlib.pyplot as plt"
   ]
  },
  {
   "cell_type": "code",
   "execution_count": 60,
   "metadata": {},
   "outputs": [
    {
     "data": {
      "text/plain": [
       "[0.14606528397632731,\n",
       " -0.014991645257961593,\n",
       " -0.02908356027388674,\n",
       " 0.041064984617047995,\n",
       " -0.654864671804895,\n",
       " 0.4101105755800107,\n",
       " -0.06611184543773979]"
      ]
     },
     "execution_count": 60,
     "metadata": {},
     "output_type": "execute_result"
    }
   ],
   "source": [
    "list(model.coefficients)"
   ]
  },
  {
   "cell_type": "code",
   "execution_count": 61,
   "metadata": {},
   "outputs": [
    {
     "name": "stdout",
     "output_type": "stream",
     "text": [
      "{'Bedroom2': -0.02908356027388674, 'Type_2': -0.06611184543773979, 'Longtitude': 0.4101105755800107, 'Distance': -0.014991645257961593, 'Lattitude': -0.654864671804895, 'Rooms': 0.14606528397632731, 'Bathroom': 0.041064984617047995}\n"
     ]
    }
   ],
   "source": [
    "coef_dict = {}\n",
    "for coef, feature in zip(list(model.coefficients), input_columns):\n",
    "    coef_dict[feature] = coef\n",
    "    \n",
    "print(coef_dict)"
   ]
  },
  {
   "cell_type": "code",
   "execution_count": 62,
   "metadata": {},
   "outputs": [
    {
     "data": {
      "image/png": "[encoded data removed]",
      "text/plain": [
       "<Figure size 864x576 with 1 Axes>"
      ]
     },
     "metadata": {},
     "output_type": "display_data"
    }
   ],
   "source": [
    "plt.figure(figsize=(12,8))\n",
    "plt.bar(*zip(*coef_dict.items()))\n",
    "plt.xticks(rotation=45)\n",
    "plt.show()"
   ]
  },
  {
   "cell_type": "code",
   "execution_count": 63,
   "metadata": {},
   "outputs": [
    {
     "data": {
      "image/png": "[encoded data removed]",
      "text/plain": [
       "<Figure size 864x576 with 1 Axes>"
      ]
     },
     "metadata": {},
     "output_type": "display_data"
    }
   ],
   "source": [
    "plt.figure(figsize=(12,8))\n",
    "plt.hist(differences, bins=35)\n",
    "plt.show()"
   ]
  },
  {
   "cell_type": "code",
   "execution_count": 64,
   "metadata": {},
   "outputs": [
    {
     "data": {
      "image/png": "[encoded data removed]",
      "text/plain": [
       "<Figure size 864x576 with 1 Axes>"
      ]
     },
     "metadata": {},
     "output_type": "display_data"
    }
   ],
   "source": [
    "plt.figure(figsize=(12,8))\n",
    "plt.hist(diff_percent, bins=50)\n",
    "plt.show()"
   ]
  },
  {
   "cell_type": "code",
   "execution_count": 65,
   "metadata": {},
   "outputs": [],
   "source": [
    "predictions = convert_pandas(results.predictions)['prediction']\n",
    "    \n",
    "actual = convert_pandas(test_data.select('Price'))['Price']"
   ]
  },
  {
   "cell_type": "code",
   "execution_count": 66,
   "metadata": {},
   "outputs": [
    {
     "data": {
      "image/png": "[encoded data removed]",
      "text/plain": [
       "<Figure size 864x576 with 1 Axes>"
      ]
     },
     "metadata": {},
     "output_type": "display_data"
    }
   ],
   "source": [
    "plt.figure(figsize=(12,8))\n",
    "plt.hist(predictions, bins=50, alpha=1, label='Predicted')\n",
    "plt.hist(actual, bins=50, alpha=0.5, label='Actual')\n",
    "plt.legend(loc='upper right')\n",
    "plt.show()"
   ]
  },
  {
   "cell_type": "code",
   "execution_count": null,
   "metadata": {},
   "outputs": [],
   "source": []
  }
 ],
 "metadata": {
  "kernelspec": {
   "display_name": "Python 3",
   "language": "python",
   "name": "python3"
  },
  "language_info": {
   "codemirror_mode": {
    "name": "ipython",
    "version": 3
   },
   "file_extension": ".py",
   "mimetype": "text/x-python",
   "name": "python",
   "nbconvert_exporter": "python",
   "pygments_lexer": "ipython3",
   "version": "3.5.2"
  }
 },
 "nbformat": 4,
 "nbformat_minor": 2
}
